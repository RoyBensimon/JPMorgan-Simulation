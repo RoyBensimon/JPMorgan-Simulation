{
 "cells": [
  {
   "cell_type": "code",
   "execution_count": 1,
   "id": "67bf72ba",
   "metadata": {
    "scrolled": true
   },
   "outputs": [
    {
     "name": "stderr",
     "output_type": "stream",
     "text": [
      "/var/folders/0v/vbg1lzh972726r2rw5bpmpk80000gn/T/ipykernel_2159/2521735819.py:4: UserWarning: Could not infer format, so each element will be parsed individually, falling back to `dateutil`. To ensure parsing is consistent and as-expected, please specify a format.\n",
      "  df[\"Dates\"] = pd.to_datetime(df[\"Dates\"])\n"
     ]
    },
    {
     "name": "stdout",
     "output_type": "stream",
     "text": [
      "Le prix estimé du gaz naturel au 2025-04-12 est de 12.37\n"
     ]
    },
   
   "source": [
    "import pandas as pd\n",
    "# Étape 1 : Charger et préparer les données\n",
    "df = pd.read_csv(\"Nat_Gas.csv\")\n",
    "df[\"Dates\"] = pd.to_datetime(df[\"Dates\"])\n",
    "df[\"Day\"] = df[\"Dates\"].dt.day\n",
    "df[\"Month\"] = df[\"Dates\"].dt.month\n",
    "df[\"Year\"] = df[\"Dates\"].dt.year\n",
    "df[\"Lag_prices\"] = df[\"Prices\"].shift(1)\n",
    "df = df.dropna()\n",
    "\n",
    "# Étape 2 : Séparer les features et la cible\n",
    "X = df[[\"Day\", \"Month\", \"Year\", \"Lag_prices\"]]  # Les variables explicatives\n",
    "y = df[\"Prices\"]  # La cible\n",
    "\n",
    "# Étape 3 : Diviser les données en ensembles d'entraînement et de test\n",
    "from sklearn.model_selection import train_test_split\n",
    "X_train, X_test, y_train, y_test = train_test_split(X, y, test_size=0.2, random_state=42)\n",
    "\n",
    "# Étape 4 : Entraîner le modèle\n",
    "from sklearn.linear_model import LinearRegression\n",
    "model = LinearRegression()\n",
    "model.fit(X_train, y_train)\n",
    "\n",
    "# Étape 5 : Tester la fonction pour une date future\n",
    "from datetime import datetime\n",
    "\n",
    "def predict_price_at_date(input_date, model, last_known_price):\n",
    "    \"\"\"\n",
    "    Prédit le prix du gaz naturel pour une date donnée.\n",
    "    \"\"\"\n",
    "    # Convertir la date en objet datetime si elle est une chaîne\n",
    "    input_date = datetime.strptime(input_date, \"%Y-%m-%d\")\n",
    "    \n",
    "    # Extraire l'année, le mois, et le jour\n",
    "    year = input_date.year\n",
    "    month = input_date.month\n",
    "    day = input_date.day\n",
    "    \n",
    "    # Créer les features pour la prédiction\n",
    "    input_data = [[day, month, year, last_known_price]]\n",
    "    \n",
    "    # Effectuer la prédiction\n",
    "    predicted_price = model.predict(input_data)[0]\n",
    "    return predicted_price\n",
    "\n",
    "# Exemple de test\n",
    "future_date = \"2025-04-12\"  # Date pour laquelle prédire le prix\n",
    "last_known_price = df[\"Prices\"].iloc[-1]  # Dernier prix connu pour Lag_prices\n",
    "\n",
    "# Appel de la fonction\n",
    "predicted_price = predict_price_at_date(future_date, model, last_known_price)\n",
    "\n",
    "# Afficher le résultat\n",
    "print(f\"Le prix estimé du gaz naturel au {future_date} est de {predicted_price:.2f}\")\n",
    "\n"
   ]
  },
  {
   "cell_type": "code",
   "execution_count": 2,
   "id": "4dcdc126",
   "metadata": {},
   "outputs": [],
   "source": [
    "#TASK 2"
   ]
  },
  {
   "cell_type": "markdown",
   "id": "8c27c7af",
   "metadata": {},
   "source": [
    "You should write a function that is able to use the data you created previously to price the contract. The client may want to choose multiple dates to inject and withdraw a set amount of gas, so your approach should generalize the explanation from before. Consider all the cash flows involved in the product.\n",
    "\n",
    "The input parameters that should be taken into account for pricing are:\n",
    "\n",
    "Injection dates. \n",
    "Withdrawal dates.\n",
    "The prices at which the commodity can be purchased/sold on those dates.\n",
    "The rate at which the gas can be injected/withdrawn.\n",
    "The maximum volume that can be stored.\n",
    "Storage costs.\n",
    "Write a function that takes these inputs and gives back the value of the contract. You can assume there is no transport delay and that interest rates are zero. Market holidays, weekends, and bank holidays need not be accounted for. Test your code by selecting a few sample inputs."
   ]
  },
  {
   "cell_type": "code",
   "execution_count": 3,
   "id": "15a5f9ae",
   "metadata": {},
   "outputs": [],
   "source": [
    "#il faut trouver le jour en hiver ou il va acheter avec le prix le plus faible et le volume ainsi que trouver \n",
    "#le meilleur jour ou il peut vendre en été avec le même volume mais chercher le prix le plus élevé,"
   ]
  },
  {
   "cell_type": "code",
   "execution_count": 4,
   "id": "b1ac5495",
   "metadata": {},
   "outputs": [],
   "source": [
    "#def pricing(injection_dates, withdrawal_dates, sold_price, sell_price, rate, max_vol, storage_costs):\n",
    "\n",
    "#je creer une fonction pour obtenir le prix le plus bas de l'année 2025\n"
   ]
  },
  {
   "cell_type": "code",
   "execution_count": 5,
   "id": "2b6035bb",
   "metadata": {},
   "outputs": [],
   "source": [
    "def find_optimal_dates_and_price(start_date, end_date, model, last_known_price):\n",
    "   \n",
    "    \n",
    "\n",
    "    # On génére toutes les dates entre start_date et end_date\n",
    "    date_range = pd.date_range(start=start_date, end=end_date)\n",
    "\n",
    "    # On prédit les prix pour toutes les dates\n",
    "    predicted_prices = [ predict_price_at_date(date.strftime(\"%Y-%m-%d\"), model, last_known_price)  for date in date_range]\n",
    "\n",
    "    # dates avec le prix minimum et le prix maximum\n",
    "    min_price = min(predicted_prices)\n",
    "    max_price = max(predicted_prices)\n",
    "    min_price_date = date_range[predicted_prices.index(min_price)]\n",
    "    max_price_date = date_range[predicted_prices.index(max_price)]\n",
    "\n",
    "    return min_price_date, min_price, max_price_date, max_price\n"
   ]
  },
  {
   "cell_type": "code",
   "execution_count": 6,
   "id": "43c07a55",
   "metadata": {},
   "outputs": [],
   "source": [
    "def price_storage_contract_with_optimal_dates(start_date, end_date, model, last_known_price, injection_rate, withdrawal_rate, max_volume, storage_costs):\n",
    "  \n",
    "    #  les dates optimales\n",
    "    buy_date, buy_price, sell_date, sell_price = find_optimal_dates_and_price(\n",
    "        start_date, end_date, model, last_known_price\n",
    "    )\n",
    "\n",
    "    # Calcule de la valeur du contrat\n",
    "    total_value = 0\n",
    "    current_volume = 0\n",
    "\n",
    "    # Injection (achat)\n",
    "    if current_volume + injection_rate <= max_volume:\n",
    "        volume_injected = injection_rate\n",
    "    else:\n",
    "        volume_injected = max_volume - current_volume\n",
    "\n",
    "    total_value -= volume_injected * buy_price\n",
    "    current_volume += volume_injected\n",
    "\n",
    "    # Coût de stockage (supposons un coût constant par mois)\n",
    "    storage_periods = (pd.to_datetime(sell_date) - pd.to_datetime(buy_date)).days // 30\n",
    "    total_value -= storage_periods * storage_costs\n",
    "\n",
    "    # Retrait (vente)\n",
    "    if current_volume - withdrawal_rate >= 0:\n",
    "        volume_withdrawn = withdrawal_rate\n",
    "    else:\n",
    "        volume_withdrawn = current_volume\n",
    "\n",
    "    total_value += volume_withdrawn * sell_price\n",
    "    current_volume -= volume_withdrawn\n",
    "\n",
    "    return total_value, buy_date, buy_price, sell_date, sell_price\n"
   ]
  },
  {
   "cell_type": "code",
   "execution_count": 7,
   "id": "14b9aca3",
   "metadata": {},
   "outputs": [
    {
     "name": "stdout",
     "output_type": "stream",
     "text": [
      "Valeur totale estimée du contrat : 640155.49 $\n",
      "Achat prévu le 2025-01-31 au prix de 11.53 $/MMBtu\n",
      "Vente prévue le 2025-12-01 au prix de 13.17 $/MMBtu\n"
     ]
    },
    {
     "name": "stderr",
     "output_type": "stream",
   
   ],
   "source": [
    "# Paramètres d'exemple\n",
    "start_date = \"2025-01-01\"\n",
    "end_date = \"2025-12-31\"\n",
    "last_known_price = df[\"Prices\"].iloc[-1]\n",
    "injection_rate = 1e6      # MMBtu\n",
    "withdrawal_rate = 1e6     # MMBtu\n",
    "max_volume = 2e6          # Capacité totale\n",
    "storage_costs = 1e5       # $/mois\n",
    "\n",
    "# Calcul du contrat\n",
    "contract_value, buy_date, buy_price, sell_date, sell_price = price_storage_contract_with_optimal_dates(\n",
    "    start_date, \n",
    "    end_date, \n",
    "    model, \n",
    "    last_known_price, \n",
    "    injection_rate, \n",
    "    withdrawal_rate, \n",
    "    max_volume, \n",
    "    storage_costs)\n",
    "\n",
    "print(f\"Valeur totale estimée du contrat : {contract_value:.2f} $\")\n",
    "print(f\"Achat prévu le {buy_date.date()} au prix de {buy_price:.2f} $/MMBtu\")\n",
    "print(f\"Vente prévue le {sell_date.date()} au prix de {sell_price:.2f} $/MMBtu\")\n"
   ]
  },
  {
   "cell_type": "code",
   "execution_count": 8,
   "id": "7272b54e",
   "metadata": {},
   "outputs": [],
   "source": [
    "#task 3 Probability of default"
   ]
  },
  {
   "cell_type": "code",
   "execution_count": 9,
   "id": "0d3f2558",
   "metadata": {},
   "outputs": [
    {
     "data": {
      "text/html": [
       "<div>\n",
       "<style scoped>\n",
       "    .dataframe tbody tr th:only-of-type {\n",
       "        vertical-align: middle;\n",
       "    }\n",
       "\n",
       "    .dataframe tbody tr th {\n",
       "        vertical-align: top;\n",
       "    }\n",
       "\n",
       "    .dataframe thead th {\n",
       "        text-align: right;\n",
       "    }\n",
       "</style>\n",
       "<table border=\"1\" class=\"dataframe\">\n",
       "  <thead>\n",
       "    <tr style=\"text-align: right;\">\n",
       "      <th></th>\n",
       "      <th>customer_id</th>\n",
       "      <th>credit_lines_outstanding</th>\n",
       "      <th>loan_amt_outstanding</th>\n",
       "      <th>total_debt_outstanding</th>\n",
       "      <th>income</th>\n",
       "      <th>years_employed</th>\n",
       "      <th>fico_score</th>\n",
       "      <th>default</th>\n",
       "    </tr>\n",
       "  </thead>\n",
       "  <tbody>\n",
       "    <tr>\n",
       "      <th>0</th>\n",
       "      <td>8153374</td>\n",
       "      <td>0</td>\n",
       "      <td>5221.545193</td>\n",
       "      <td>3915.471226</td>\n",
       "      <td>78039.38546</td>\n",
       "      <td>5</td>\n",
       "      <td>605</td>\n",
       "      <td>0</td>\n",
       "    </tr>\n",
       "    <tr>\n",
       "      <th>1</th>\n",
       "      <td>7442532</td>\n",
       "      <td>5</td>\n",
       "      <td>1958.928726</td>\n",
       "      <td>8228.752520</td>\n",
       "      <td>26648.43525</td>\n",
       "      <td>2</td>\n",
       "      <td>572</td>\n",
       "      <td>1</td>\n",
       "    </tr>\n",
       "    <tr>\n",
       "      <th>2</th>\n",
       "      <td>2256073</td>\n",
       "      <td>0</td>\n",
       "      <td>3363.009259</td>\n",
       "      <td>2027.830850</td>\n",
       "      <td>65866.71246</td>\n",
       "      <td>4</td>\n",
       "      <td>602</td>\n",
       "      <td>0</td>\n",
       "    </tr>\n",
       "    <tr>\n",
       "      <th>3</th>\n",
       "      <td>4885975</td>\n",
       "      <td>0</td>\n",
       "      <td>4766.648001</td>\n",
       "      <td>2501.730397</td>\n",
       "      <td>74356.88347</td>\n",
       "      <td>5</td>\n",
       "      <td>612</td>\n",
       "      <td>0</td>\n",
       "    </tr>\n",
       "    <tr>\n",
       "      <th>4</th>\n",
       "      <td>4700614</td>\n",
       "      <td>1</td>\n",
       "      <td>1345.827718</td>\n",
       "      <td>1768.826187</td>\n",
       "      <td>23448.32631</td>\n",
       "      <td>6</td>\n",
       "      <td>631</td>\n",
       "      <td>0</td>\n",
       "    </tr>\n",
       "    <tr>\n",
       "      <th>5</th>\n",
       "      <td>4661159</td>\n",
       "      <td>0</td>\n",
       "      <td>5376.886873</td>\n",
       "      <td>7189.121298</td>\n",
       "      <td>85529.84591</td>\n",
       "      <td>2</td>\n",
       "      <td>697</td>\n",
       "      <td>0</td>\n",
       "    </tr>\n",
       "    <tr>\n",
       "      <th>6</th>\n",
       "      <td>8291909</td>\n",
       "      <td>1</td>\n",
       "      <td>3634.057471</td>\n",
       "      <td>7085.980095</td>\n",
       "      <td>68691.57707</td>\n",
       "      <td>6</td>\n",
       "      <td>722</td>\n",
       "      <td>0</td>\n",
       "    </tr>\n",
       "    <tr>\n",
       "      <th>7</th>\n",
       "      <td>4616950</td>\n",
       "      <td>4</td>\n",
       "      <td>3302.172238</td>\n",
       "      <td>13067.570210</td>\n",
       "      <td>50352.16821</td>\n",
       "      <td>3</td>\n",
       "      <td>545</td>\n",
       "      <td>1</td>\n",
       "    </tr>\n",
       "    <tr>\n",
       "      <th>8</th>\n",
       "      <td>3395789</td>\n",
       "      <td>0</td>\n",
       "      <td>2938.325123</td>\n",
       "      <td>1918.404472</td>\n",
       "      <td>53497.37754</td>\n",
       "      <td>4</td>\n",
       "      <td>676</td>\n",
       "      <td>0</td>\n",
       "    </tr>\n",
       "    <tr>\n",
       "      <th>9</th>\n",
       "      <td>4045948</td>\n",
       "      <td>0</td>\n",
       "      <td>5396.366774</td>\n",
       "      <td>5298.824524</td>\n",
       "      <td>92349.55399</td>\n",
       "      <td>2</td>\n",
       "      <td>447</td>\n",
       "      <td>0</td>\n",
       "    </tr>\n",
       "  </tbody>\n",
       "</table>\n",
       "</div>"
      ],
      "text/plain": [
       "   customer_id  credit_lines_outstanding  loan_amt_outstanding  \\\n",
       "0      8153374                         0           5221.545193   \n",
       "1      7442532                         5           1958.928726   \n",
       "2      2256073                         0           3363.009259   \n",
       "3      4885975                         0           4766.648001   \n",
       "4      4700614                         1           1345.827718   \n",
       "5      4661159                         0           5376.886873   \n",
       "6      8291909                         1           3634.057471   \n",
       "7      4616950                         4           3302.172238   \n",
       "8      3395789                         0           2938.325123   \n",
       "9      4045948                         0           5396.366774   \n",
       "\n",
       "   total_debt_outstanding       income  years_employed  fico_score  default  \n",
       "0             3915.471226  78039.38546               5         605        0  \n",
       "1             8228.752520  26648.43525               2         572        1  \n",
       "2             2027.830850  65866.71246               4         602        0  \n",
       "3             2501.730397  74356.88347               5         612        0  \n",
       "4             1768.826187  23448.32631               6         631        0  \n",
       "5             7189.121298  85529.84591               2         697        0  \n",
       "6             7085.980095  68691.57707               6         722        0  \n",
       "7            13067.570210  50352.16821               3         545        1  \n",
       "8             1918.404472  53497.37754               4         676        0  \n",
       "9             5298.824524  92349.55399               2         447        0  "
      ]
     },
     "execution_count": 9,
     "metadata": {},
     "output_type": "execute_result"
    }
   ],
   "source": [
    "dff = pd.read_csv('Task 3 and 4_Loan_Data.csv')\n",
    "dff.head(10)"
   ]
  },
  {
   "cell_type": "code",
   "execution_count": 10,
   "id": "3768616a",
   "metadata": {},
   "outputs": [],
   "source": [
    "# La cible est \"default\" et les features sont tout le reste"
   ]
  },
  {
   "cell_type": "code",
   "execution_count": 11,
   "id": "d0e0bef6",
   "metadata": {},
   "outputs": [],
   "source": [
    "#on va commencer par une regression logistique binaire (on veut savoir si selon le customer id on a 1 ou 0)"
   ]
  },
  {
   "cell_type": "code",
   "execution_count": 12,
   "id": "c5ed08b2",
   "metadata": {},
   "outputs": [
    {
     "name": "stdout",
     "output_type": "stream",
     "text": [
      "      customer_id  credit_lines_outstanding  loan_amt_outstanding  \\\n",
      "0           False                     False                 False   \n",
      "1           False                     False                 False   \n",
      "2           False                     False                 False   \n",
      "3           False                     False                 False   \n",
      "4           False                     False                 False   \n",
      "...           ...                       ...                   ...   \n",
      "9995        False                     False                 False   \n",
      "9996        False                     False                 False   \n",
      "9997        False                     False                 False   \n",
      "9998        False                     False                 False   \n",
      "9999        False                     False                 False   \n",
      "\n",
      "      total_debt_outstanding  income  years_employed  fico_score  default  \n",
      "0                      False   False           False       False    False  \n",
      "1                      False   False           False       False    False  \n",
      "2                      False   False           False       False    False  \n",
      "3                      False   False           False       False    False  \n",
      "4                      False   False           False       False    False  \n",
      "...                      ...     ...             ...         ...      ...  \n",
      "9995                   False   False           False       False    False  \n",
      "9996                   False   False           False       False    False  \n",
      "9997                   False   False           False       False    False  \n",
      "9998                   False   False           False       False    False  \n",
      "9999                   False   False           False       False    False  \n",
      "\n",
      "[10000 rows x 8 columns]\n"
     ]
    }
   ],
   "source": [
    "print(dff.isna())"
   ]
  },
  {
   "cell_type": "markdown",
   "id": "31c03175",
   "metadata": {},
   "source": [
    "print(dff.describe())"
   ]
  },
  {
   "cell_type": "code",
   "execution_count": 13,
   "id": "b1e61ba6",
   "metadata": {},
   "outputs": [
    {
     "data": {
      "image/png": "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",
      "text/plain": [
       "<Figure size 640x480 with 2 Axes>"
      ]
     },
     "metadata": {},
     "output_type": "display_data"
    }
   ],
   "source": [
    "#Analyse des features\n",
    "import seaborn as sns\n",
    "import matplotlib.pyplot as plt\n",
    "\n",
    "#on calcule la matrice de correlation\n",
    "\n",
    "matrice_corr = dff.corr()\n",
    "\n",
    "plt.figure()\n",
    "sns.heatmap(matrice_corr, annot = True, cmap= \"coolwarm\")\n",
    "plt.title(\"Matrice de correlation des caracteristiques\")\n",
    "plt.show()"
   ]
  },
  {
   "cell_type": "markdown",
   "id": "1c992810",
   "metadata": {},
   "source": [
    "Features très correlé: \n",
    "\n",
    "Correlation positive avec la cible \"default\": credit_lines_outstanding, total_debt_outstanding\n",
    "Correlation negative avec la cible: fico_score et years_employed, donc si ces deux score augmentent alors le risque de défaut diminue"
   ]
  },
  {
   "cell_type": "markdown",
   "id": "5ef8772b",
   "metadata": {},
   "source": [
    "credit_lines_outstanding et total_debt_outstanding sont fortement correle entre elles donc on garde que credit_lines_outstanding."
   ]
  },
  {
   "cell_type": "code",
   "execution_count": 49,
   "id": "dc69cd0f",
   "metadata": {},
   "outputs": [],
   "source": [
    "# Liste des variables sélectionnées après filtrage des corrélations faibles\n",
    "selected_features = [\"credit_lines_outstanding\", \"fico_score\", \"years_employed\"]\n",
    "\n",
    "# Mettre à jour X avec ces nouvelles features\n",
    "X = dff[selected_features]\n",
    "y = dff[\"default\"]"
   ]
  },
  {
   "cell_type": "code",
   "execution_count": 50,
   "id": "800f58ca",
   "metadata": {},
   "outputs": [],
   "source": [
    "from sklearn.model_selection import train_test_split\n",
    "from sklearn.preprocessing import StandardScaler\n",
    "# On divise les données en jeu d'entrainement et de test \n",
    "X_train, X_test, y_train, y_test = train_test_split(X, y, test_size = 0.2 , random_state = 42)"
   ]
  },
  {
   "cell_type": "code",
   "execution_count": 51,
   "id": "784ef1e9",
   "metadata": {},
   "outputs": [],
   "source": [
    "#on normalise les variables\n",
    "scaler = StandardScaler()\n",
    "X_train_scaled = scaler.fit_transform(X_train)\n",
    "X_test_scaled = scaler.fit_transform(X_test)\n"
   ]
  },
  {
   "cell_type": "markdown",
   "id": "5e5ed8da",
   "metadata": {},
   "source": [
    "Entrainement du model:"
   ]
  },
  {
   "cell_type": "code",
   "execution_count": 53,
   "id": "bc852710",
   "metadata": {},
   "outputs": [
    {
     "name": "stdout",
     "output_type": "stream",
     "text": [
      "Accuracy: 0.993\n",
      "auc-roc: 0.985698918799647\n",
      "              precision    recall  f1-score   support\n",
      "\n",
      "           0       0.99      1.00      1.00      1648\n",
      "           1       0.99      0.97      0.98       352\n",
      "\n",
      "    accuracy                           0.99      2000\n",
      "   macro avg       0.99      0.99      0.99      2000\n",
      "weighted avg       0.99      0.99      0.99      2000\n",
      "\n"
     ]
    }
   ],
   "source": [
    "from sklearn.linear_model import LogisticRegression\n",
    "from sklearn.metrics import roc_auc_score, accuracy_score , classification_report\n",
    "model = LogisticRegression()\n",
    "model.fit(X_train_scaled, y_train)\n",
    "\n",
    "#prédictions\n",
    "\n",
    "y_pred = model.predict(X_test_scaled)\n",
    "y_prob = model.predict_proba(X_test_scaled)[:,1]\n",
    "\n",
    "#on évalue notre model:\n",
    "accuracy = accuracy_score(y_pred, y_test)\n",
    "auc_score = roc_auc_score(y_pred, y_test)\n",
    "\n",
    "print(\"Accuracy:\", accuracy)\n",
    "print(\"auc-roc:\", auc_score)\n",
    "print(classification_report(y_pred,y_test))\n"
   ]
  },
  {
   "cell_type": "code",
   "execution_count": 69,
   "id": "73ded264",
   "metadata": {},
   "outputs": [
    {
     "name": "stdout",
     "output_type": "stream",
     "text": [
      "Probabilité de défaut : 0.2075195258954737\n",
      "Perte attendue : 933.8378665296318\n"
     ]
    }
   ],
   "source": [
    "def predict_expected_loss(credit_lines_outstanding, fico_score, years_employed, loan_amt_outstanding):\n",
    "    \"\"\"\n",
    "    Fonction qui prédit la probabilité de défaut et la perte attendue en utilisant la régression logistique.\n",
    "    \"\"\"\n",
    "\n",
    "    # Je crée un DataFrame avec les valeurs en entrée\n",
    "    borrower_data = pd.DataFrame([[credit_lines_outstanding, fico_score, years_employed]],  \n",
    "                                 columns=[\"credit_lines_outstanding\", \"fico_score\", \"years_employed\"])\n",
    "\n",
    "    # On normalisation les données\n",
    "    borrower_data_scaled = scaler.transform(borrower_data)\n",
    "\n",
    "    # prediction de la probabilité de défaut avec la régression logistique\n",
    "    pd_default = model.predict_proba(borrower_data_scaled)[:, 1][0]\n",
    "\n",
    "    # taux de récupération \n",
    "    recovery_rate = 0.10  # 10%\n",
    "\n",
    "    # calcul de la perte attendue (EL = PD × Loan Amount × (1 - Recovery Rate))\n",
    "    expected_loss = pd_default * loan_amt_outstanding * (1 - recovery_rate)\n",
    "\n",
    "    return pd_default, expected_loss\n",
    "\n",
    "# Test de la fonction avec un exemple d'emprunteur\n",
    "example_pd, example_loss = predict_expected_loss(\n",
    "    credit_lines_outstanding=3, fico_score=100, years_employed=9, loan_amt_outstanding=5000)\n",
    "\n",
    "print(\"Probabilité de défaut :\", example_pd)\n",
    "print(\"Perte attendue :\", example_loss)\n"
   ]
  },
  {
   "cell_type": "markdown",
   "id": "9ab2d509",
   "metadata": {},
   "source": [
    "\n",
    "# TASK 4\n",
    "## Bucket FICO scores\n",
    "\n",
    "Charlie wants to make her model work for future data sets, so she needs a general approach to generating the buckets. Given a set number of buckets corresponding to the number of input labels for the model, she would like to find out the boundaries that best summarize the data. You need to create a rating map that maps the FICO score of the borrowers to a rating where a lower rating signifies a better credit score.\n",
    "\n",
    "The process of doing this is known as quantization. You could consider many ways of solving the problem by optimizing different properties of the resulting buckets, such as the mean squared error or log-likelihood (see below for definitions). "
   ]
  },
  {
   "cell_type": "code",
   "execution_count": 71,
   "id": "7580ab78",
   "metadata": {},
   "outputs": [],
   "source": [
    "from sklearn.cluster import KMeans\n",
    "import numpy as np"
   ]
  },
  {
   "cell_type": "code",
   "execution_count": 77,
   "id": "b7ab5a0c",
   "metadata": {},
   "outputs": [],
   "source": [
    "# On va utiliser KMeans car ce modele minimise la MSE, donc chaque cluster sera le plus representatif possible\n",
    "# C'est une approche non supervisé donc pas besoin de labels\n",
    "def fico_buckets_Kmeans(fico_scores, n_buckets):\n",
    "    \n",
    "    fico_scores = np.array(fico_scores).reshape(-1,1)\n",
    "    \n",
    "    kmeans = KMeans( n_clusters = n_buckets, random_state = 42)\n",
    "    kmeans.fit(fico_scores)\n",
    "    \n",
    "    boundaries = np.sort(kmeans.cluster_centers_.flatten())\n",
    "    bucket_labels = kmeans.predict(fico_scores)\n",
    "    \n",
    "    return boundaries, bucket_labels\n"
   ]
  },
  {
   "cell_type": "code",
   "execution_count": 83,
   "id": "95d166a4",
   "metadata": {
    "scrolled": true
   },
   "outputs": [
    {
     "name": "stdout",
     "output_type": "stream",
     "text": [
      "boundaries: [562.46569724 638.4820777  711.67957879]\n",
      "bucket labels: [1 0 1 ... 0 1 2]\n"
     ]
    }
   ],
   "source": [
    "#TEST\n",
    "\n",
    "boundaries_exemple, bucket_labels_exemple = fico_buckets_Kmeans(fico_scores = dff[\"fico_score\"], n_buckets = 3)\n",
    "\n",
    "print(\"boundaries:\", boundaries_exemple)\n",
    "print(\"bucket labels:\", bucket_labels_exemple)"
   ]
  },
  {
   "cell_type": "code",
   "execution_count": 92,
   "id": "d15b5950",
   "metadata": {},
   "outputs": [],
   "source": [
    "import scipy.optimize as opt\n"
   ]
  },
  {
   "cell_type": "code",
   "execution_count": 107,
   "id": "f0ab987e",
   "metadata": {},
   "outputs": [
    {
     "name": "stdout",
     "output_type": "stream",
     "text": [
      "Initial Boundaries: [496.4 584.8 673.2 761.6]\n",
      "Limites des buckets optimisées : [520.04387715 584.19260914 672.21722094 755.15079242]\n",
      "Min Score: 408 Max Score: 850\n"
     ]
    }
   ],
   "source": [
    "#Autre méthode:on maximse la log-likelihood\n",
    "def log_likelihood_fico(fico_score, defaults, n_buckets):\n",
    "    \n",
    "    def neg_log_likelihood(boundaries):\n",
    "        \n",
    "        boundaries = np.sort(boundaries)\n",
    "        bins = np.digitize(fico_score, boundaries)\n",
    "        \n",
    "        log_likelihood = 0\n",
    "        for i in range (n_buckets):\n",
    "            ki = np.sum(defaults[bins == i])\n",
    "            ni = np.sum(bins == i)\n",
    "            \n",
    "            if ni> 0 and ki >0:\n",
    "                pi = ki/ni\n",
    "                log_likelihood += ki * np.log(pi) + (ni-ki) * np.log(1-pi)\n",
    "                \n",
    "        return -log_likelihood\n",
    "    \n",
    "    #On initialise les limites de boundaries\n",
    "    initial_boundaries = np.linspace(min(fico_score), max(fico_score), num = n_buckets+1)[1:-1]\n",
    "    \n",
    "    print(\"Initial Boundaries:\", initial_boundaries) \n",
    "    \n",
    "    #Optimization\n",
    "    result = opt.minimize(neg_log_likelihood, initial_boundaries, method = \"Powell\", options={\"maxiter\": 500})\n",
    "    return np.sort(result.x)\n",
    "\n",
    "# Exemple \n",
    "fico_scores_sample = dff[\"fico_score\"]  \n",
    "defaults_sample = dff[\"default\"]  \n",
    "optimized_buckets = log_likelihood_fico(fico_scores_sample, defaults_sample, n_buckets=5)\n",
    "\n",
    "print(\"Limites des buckets optimisées :\", optimized_buckets)\n",
    "print(\"Min Score:\", min(fico_scores_sample), \"Max Score:\", max(fico_scores_sample))  \n",
    "\n",
    "            \n",
    "            \n",
    "            \n",
    "            \n",
    "            \n",
    "            "
   ]
  },
  {
   "cell_type": "code",
   "execution_count": null,
   "id": "756ded6d",
   "metadata": {},
   "outputs": [],
   "source": []
  }
 ],
 "metadata": {
  "kernelspec": {
   "display_name": "Python (TensorFlow)",
   "language": "python",
   "name": "myenv"
  },
  "language_info": {
   "codemirror_mode": {
    "name": "ipython",
    "version": 3
   },
   "file_extension": ".py",
   "mimetype": "text/x-python",
   "name": "python",
   "nbconvert_exporter": "python",
   "pygments_lexer": "ipython3",
   "version": "3.10.0"
  }
 },
 "nbformat": 4,
 "nbformat_minor": 5
}
